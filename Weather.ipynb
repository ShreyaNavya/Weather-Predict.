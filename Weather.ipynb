{
  "nbformat": 4,
  "nbformat_minor": 0,
  "metadata": {
    "colab": {
      "name": "Untitled1.ipynb",
      "provenance": [],
      "collapsed_sections": [],
      "authorship_tag": "ABX9TyMxbhVsCCBYGq0zIzrO0sU+",
      "include_colab_link": true
    },
    "kernelspec": {
      "name": "python3",
      "display_name": "Python 3"
    },
    "language_info": {
      "name": "python"
    }
  },
  "cells": [
    {
      "cell_type": "markdown",
      "metadata": {
        "id": "view-in-github",
        "colab_type": "text"
      },
      "source": [
        "<a href=\"https://colab.research.google.com/github/ShreyaNavya/Weather-Predict./blob/main/Weather.ipynb\" target=\"_parent\"><img src=\"https://colab.research.google.com/assets/colab-badge.svg\" alt=\"Open In Colab\"/></a>"
      ]
    },
    {
      "cell_type": "code",
      "execution_count": null,
      "metadata": {
        "id": "cqeLuWKk75hd"
      },
      "outputs": [],
      "source": [
        "#Naive Bayes model (Weather prediction)\n",
        "import pandas as pd\n",
        "from sklearn.preprocessing import LabelEncoder\n",
        "from sklearn.naive_bayes import GaussianNB"
      ]
    },
    {
      "cell_type": "code",
      "source": [
        "#Reading csv file.\n",
        "df=pd.read_csv(\"/content/Weather.csv\")\n",
        "#df\n",
        "#Encoding strings to Numbrs.\n",
        "numerics = LabelEncoder()\n",
        "#Drop d target variable & make it as a new frame.\n",
        "input=df.drop('Play',axis='columns')\n",
        "target=df['Play']\n",
        "#target"
      ],
      "metadata": {
        "id": "6oWvSPJ_G1HR"
      },
      "execution_count": 11,
      "outputs": []
    },
    {
      "cell_type": "code",
      "source": [
        "#Create a new df.\n",
        "input['Outlook_n']=numerics.fit_transform(input['Outlook'])\n",
        "input['Temp_n']=numerics.fit_transform(input['Temp'])\n",
        "input['Hum_n']=numerics.fit_transform(input['Humidity'])\n",
        "input['Win_n']=numerics.fit_transform(input['Windy'])\n",
        "#input"
      ],
      "metadata": {
        "id": "cl0O2cQDP9-2"
      },
      "execution_count": 16,
      "outputs": []
    },
    {
      "cell_type": "code",
      "source": [
        "#dropping d string values.\n",
        "input_n=input.drop(['Outlook','Temp','Humidity','Windy'],axis='columns')\n",
        "#input_n"
      ],
      "metadata": {
        "id": "sSzgWNBpiOtH"
      },
      "execution_count": 19,
      "outputs": []
    },
    {
      "cell_type": "code",
      "source": [
        "#Apply Gaussian Naive Bayes.\n",
        "classifier=GaussianNB()\n",
        "classifier.fit(input_n,target)\n",
        "#GaussianNB()\n",
        "#Accuracy.\n",
        "classifier.score(input_n,target)"
      ],
      "metadata": {
        "colab": {
          "base_uri": "https://localhost:8080/"
        },
        "id": "XZafsaaBi-R7",
        "outputId": "d06baa69-9cc4-42e0-8501-891f84a8dd3d"
      },
      "execution_count": 21,
      "outputs": [
        {
          "output_type": "execute_result",
          "data": {
            "text/plain": [
              "0.8571428571428571"
            ]
          },
          "metadata": {},
          "execution_count": 21
        }
      ]
    },
    {
      "cell_type": "code",
      "source": [
        "#prediction.\n",
        "classifier.predict([[1,0,0,1]])"
      ],
      "metadata": {
        "colab": {
          "base_uri": "https://localhost:8080/"
        },
        "id": "gLOZNv5WjoaB",
        "outputId": "d35a5535-d197-4308-ea8d-e66805a1ed62"
      },
      "execution_count": 26,
      "outputs": [
        {
          "output_type": "stream",
          "name": "stderr",
          "text": [
            "/usr/local/lib/python3.7/dist-packages/sklearn/base.py:451: UserWarning: X does not have valid feature names, but GaussianNB was fitted with feature names\n",
            "  \"X does not have valid feature names, but\"\n"
          ]
        },
        {
          "output_type": "execute_result",
          "data": {
            "text/plain": [
              "array(['No'], dtype='<U3')"
            ]
          },
          "metadata": {},
          "execution_count": 26
        }
      ]
    }
  ]
}